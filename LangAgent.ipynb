{
 "cells": [
  {
   "cell_type": "code",
   "execution_count": 1,
   "id": "73fdd99f-59bb-4e7f-9911-26f693f79337",
   "metadata": {},
   "outputs": [
    {
     "name": "stdout",
     "output_type": "stream",
     "text": [
      "Collecting langgraph\n",
      "  Downloading langgraph-0.6.6-py3-none-any.whl.metadata (6.8 kB)\n",
      "Collecting langchain-tavily\n",
      "  Downloading langchain_tavily-0.2.11-py3-none-any.whl.metadata (22 kB)\n",
      "Collecting langgraph-checkpoint-sqlite\n",
      "  Downloading langgraph_checkpoint_sqlite-2.0.11-py3-none-any.whl.metadata (2.6 kB)\n",
      "Collecting langchain-core>=0.1 (from langgraph)\n",
      "  Downloading langchain_core-0.3.74-py3-none-any.whl.metadata (5.8 kB)\n",
      "Collecting langgraph-checkpoint<3.0.0,>=2.1.0 (from langgraph)\n",
      "  Downloading langgraph_checkpoint-2.1.1-py3-none-any.whl.metadata (4.2 kB)\n",
      "Collecting langgraph-prebuilt<0.7.0,>=0.6.0 (from langgraph)\n",
      "  Downloading langgraph_prebuilt-0.6.4-py3-none-any.whl.metadata (4.5 kB)\n",
      "Collecting langgraph-sdk<0.3.0,>=0.2.2 (from langgraph)\n",
      "  Downloading langgraph_sdk-0.2.2-py3-none-any.whl.metadata (1.5 kB)\n",
      "Requirement already satisfied: pydantic>=2.7.4 in c:\\users\\admin\\appdata\\local\\programs\\python\\python313\\lib\\site-packages (from langgraph) (2.11.7)\n",
      "Collecting xxhash>=3.5.0 (from langgraph)\n",
      "  Downloading xxhash-3.5.0-cp313-cp313-win_amd64.whl.metadata (13 kB)\n",
      "Collecting ormsgpack>=1.10.0 (from langgraph-checkpoint<3.0.0,>=2.1.0->langgraph)\n",
      "  Downloading ormsgpack-1.10.0-cp313-cp313-win_amd64.whl.metadata (44 kB)\n",
      "Requirement already satisfied: httpx>=0.25.2 in c:\\users\\admin\\appdata\\local\\programs\\python\\python313\\lib\\site-packages (from langgraph-sdk<0.3.0,>=0.2.2->langgraph) (0.28.1)\n",
      "Collecting orjson>=3.10.1 (from langgraph-sdk<0.3.0,>=0.2.2->langgraph)\n",
      "  Downloading orjson-3.11.2-cp313-cp313-win_amd64.whl.metadata (1.2 kB)\n",
      "Requirement already satisfied: aiohttp<4.0.0,>=3.11.14 in c:\\users\\admin\\appdata\\local\\programs\\python\\python313\\lib\\site-packages (from langchain-tavily) (3.12.15)\n",
      "Collecting langchain<0.4.0,>=0.3.20 (from langchain-tavily)\n",
      "  Downloading langchain-0.3.27-py3-none-any.whl.metadata (7.8 kB)\n",
      "Requirement already satisfied: requests<3.0.0,>=2.32.3 in c:\\users\\admin\\appdata\\local\\programs\\python\\python313\\lib\\site-packages (from langchain-tavily) (2.32.4)\n",
      "Requirement already satisfied: aiohappyeyeballs>=2.5.0 in c:\\users\\admin\\appdata\\local\\programs\\python\\python313\\lib\\site-packages (from aiohttp<4.0.0,>=3.11.14->langchain-tavily) (2.6.1)\n",
      "Requirement already satisfied: aiosignal>=1.4.0 in c:\\users\\admin\\appdata\\local\\programs\\python\\python313\\lib\\site-packages (from aiohttp<4.0.0,>=3.11.14->langchain-tavily) (1.4.0)\n",
      "Requirement already satisfied: attrs>=17.3.0 in c:\\users\\admin\\appdata\\local\\programs\\python\\python313\\lib\\site-packages (from aiohttp<4.0.0,>=3.11.14->langchain-tavily) (25.3.0)\n",
      "Requirement already satisfied: frozenlist>=1.1.1 in c:\\users\\admin\\appdata\\local\\programs\\python\\python313\\lib\\site-packages (from aiohttp<4.0.0,>=3.11.14->langchain-tavily) (1.7.0)\n",
      "Requirement already satisfied: multidict<7.0,>=4.5 in c:\\users\\admin\\appdata\\local\\programs\\python\\python313\\lib\\site-packages (from aiohttp<4.0.0,>=3.11.14->langchain-tavily) (6.6.4)\n",
      "Requirement already satisfied: propcache>=0.2.0 in c:\\users\\admin\\appdata\\local\\programs\\python\\python313\\lib\\site-packages (from aiohttp<4.0.0,>=3.11.14->langchain-tavily) (0.3.2)\n",
      "Requirement already satisfied: yarl<2.0,>=1.17.0 in c:\\users\\admin\\appdata\\local\\programs\\python\\python313\\lib\\site-packages (from aiohttp<4.0.0,>=3.11.14->langchain-tavily) (1.20.1)\n",
      "Collecting langchain-text-splitters<1.0.0,>=0.3.9 (from langchain<0.4.0,>=0.3.20->langchain-tavily)\n",
      "  Downloading langchain_text_splitters-0.3.9-py3-none-any.whl.metadata (1.9 kB)\n",
      "Collecting langsmith>=0.1.17 (from langchain<0.4.0,>=0.3.20->langchain-tavily)\n",
      "  Downloading langsmith-0.4.14-py3-none-any.whl.metadata (14 kB)\n",
      "Collecting SQLAlchemy<3,>=1.4 (from langchain<0.4.0,>=0.3.20->langchain-tavily)\n",
      "  Downloading sqlalchemy-2.0.43-cp313-cp313-win_amd64.whl.metadata (9.8 kB)\n",
      "Requirement already satisfied: PyYAML>=5.3 in c:\\users\\admin\\appdata\\local\\programs\\python\\python313\\lib\\site-packages (from langchain<0.4.0,>=0.3.20->langchain-tavily) (6.0.2)\n",
      "Collecting tenacity!=8.4.0,<10.0.0,>=8.1.0 (from langchain-core>=0.1->langgraph)\n",
      "  Using cached tenacity-9.1.2-py3-none-any.whl.metadata (1.2 kB)\n",
      "Collecting jsonpatch<2.0,>=1.33 (from langchain-core>=0.1->langgraph)\n",
      "  Using cached jsonpatch-1.33-py2.py3-none-any.whl.metadata (3.0 kB)\n",
      "Requirement already satisfied: typing-extensions>=4.7 in c:\\users\\admin\\appdata\\local\\programs\\python\\python313\\lib\\site-packages (from langchain-core>=0.1->langgraph) (4.14.0)\n",
      "Requirement already satisfied: packaging>=23.2 in c:\\users\\admin\\appdata\\local\\programs\\python\\python313\\lib\\site-packages (from langchain-core>=0.1->langgraph) (25.0)\n",
      "Requirement already satisfied: jsonpointer>=1.9 in c:\\users\\admin\\appdata\\local\\programs\\python\\python313\\lib\\site-packages (from jsonpatch<2.0,>=1.33->langchain-core>=0.1->langgraph) (3.0.0)\n",
      "Requirement already satisfied: annotated-types>=0.6.0 in c:\\users\\admin\\appdata\\local\\programs\\python\\python313\\lib\\site-packages (from pydantic>=2.7.4->langgraph) (0.7.0)\n",
      "Requirement already satisfied: pydantic-core==2.33.2 in c:\\users\\admin\\appdata\\local\\programs\\python\\python313\\lib\\site-packages (from pydantic>=2.7.4->langgraph) (2.33.2)\n",
      "Requirement already satisfied: typing-inspection>=0.4.0 in c:\\users\\admin\\appdata\\local\\programs\\python\\python313\\lib\\site-packages (from pydantic>=2.7.4->langgraph) (0.4.1)\n",
      "Requirement already satisfied: charset_normalizer<4,>=2 in c:\\users\\admin\\appdata\\local\\programs\\python\\python313\\lib\\site-packages (from requests<3.0.0,>=2.32.3->langchain-tavily) (3.4.2)\n",
      "Requirement already satisfied: idna<4,>=2.5 in c:\\users\\admin\\appdata\\local\\programs\\python\\python313\\lib\\site-packages (from requests<3.0.0,>=2.32.3->langchain-tavily) (3.10)\n",
      "Requirement already satisfied: urllib3<3,>=1.21.1 in c:\\users\\admin\\appdata\\local\\programs\\python\\python313\\lib\\site-packages (from requests<3.0.0,>=2.32.3->langchain-tavily) (2.5.0)\n",
      "Requirement already satisfied: certifi>=2017.4.17 in c:\\users\\admin\\appdata\\local\\programs\\python\\python313\\lib\\site-packages (from requests<3.0.0,>=2.32.3->langchain-tavily) (2025.6.15)\n",
      "Collecting greenlet>=1 (from SQLAlchemy<3,>=1.4->langchain<0.4.0,>=0.3.20->langchain-tavily)\n",
      "  Downloading greenlet-3.2.4-cp313-cp313-win_amd64.whl.metadata (4.2 kB)\n",
      "Collecting aiosqlite>=0.20 (from langgraph-checkpoint-sqlite)\n",
      "  Downloading aiosqlite-0.21.0-py3-none-any.whl.metadata (4.3 kB)\n",
      "Collecting sqlite-vec>=0.1.6 (from langgraph-checkpoint-sqlite)\n",
      "  Downloading sqlite_vec-0.1.6-py3-none-win_amd64.whl.metadata (198 bytes)\n",
      "Requirement already satisfied: anyio in c:\\users\\admin\\appdata\\local\\programs\\python\\python313\\lib\\site-packages (from httpx>=0.25.2->langgraph-sdk<0.3.0,>=0.2.2->langgraph) (4.9.0)\n",
      "Requirement already satisfied: httpcore==1.* in c:\\users\\admin\\appdata\\local\\programs\\python\\python313\\lib\\site-packages (from httpx>=0.25.2->langgraph-sdk<0.3.0,>=0.2.2->langgraph) (1.0.9)\n",
      "Requirement already satisfied: h11>=0.16 in c:\\users\\admin\\appdata\\local\\programs\\python\\python313\\lib\\site-packages (from httpcore==1.*->httpx>=0.25.2->langgraph-sdk<0.3.0,>=0.2.2->langgraph) (0.16.0)\n",
      "Collecting requests-toolbelt>=1.0.0 (from langsmith>=0.1.17->langchain<0.4.0,>=0.3.20->langchain-tavily)\n",
      "  Using cached requests_toolbelt-1.0.0-py2.py3-none-any.whl.metadata (14 kB)\n",
      "Collecting zstandard>=0.23.0 (from langsmith>=0.1.17->langchain<0.4.0,>=0.3.20->langchain-tavily)\n",
      "  Downloading zstandard-0.24.0-cp313-cp313-win_amd64.whl.metadata (3.2 kB)\n",
      "Requirement already satisfied: sniffio>=1.1 in c:\\users\\admin\\appdata\\local\\programs\\python\\python313\\lib\\site-packages (from anyio->httpx>=0.25.2->langgraph-sdk<0.3.0,>=0.2.2->langgraph) (1.3.1)\n",
      "Downloading langgraph-0.6.6-py3-none-any.whl (153 kB)\n",
      "Downloading langgraph_checkpoint-2.1.1-py3-none-any.whl (43 kB)\n",
      "Downloading langgraph_prebuilt-0.6.4-py3-none-any.whl (28 kB)\n",
      "Downloading langgraph_sdk-0.2.2-py3-none-any.whl (52 kB)\n",
      "Downloading langchain_tavily-0.2.11-py3-none-any.whl (26 kB)\n",
      "Downloading langchain-0.3.27-py3-none-any.whl (1.0 MB)\n",
      "   ---------------------------------------- 0.0/1.0 MB ? eta -:--:--\n",
      "   ---------------------------------------- 1.0/1.0 MB 47.3 MB/s  0:00:00\n",
      "Downloading langchain_core-0.3.74-py3-none-any.whl (443 kB)\n",
      "Using cached jsonpatch-1.33-py2.py3-none-any.whl (12 kB)\n",
      "Downloading langchain_text_splitters-0.3.9-py3-none-any.whl (33 kB)\n",
      "Downloading sqlalchemy-2.0.43-cp313-cp313-win_amd64.whl (2.1 MB)\n",
      "   ---------------------------------------- 0.0/2.1 MB ? eta -:--:--\n",
      "   ---------------------------------------- 2.1/2.1 MB 55.9 MB/s  0:00:00\n",
      "Using cached tenacity-9.1.2-py3-none-any.whl (28 kB)\n",
      "Downloading langgraph_checkpoint_sqlite-2.0.11-py3-none-any.whl (31 kB)\n",
      "Downloading aiosqlite-0.21.0-py3-none-any.whl (15 kB)\n",
      "Downloading greenlet-3.2.4-cp313-cp313-win_amd64.whl (299 kB)\n",
      "Downloading langsmith-0.4.14-py3-none-any.whl (373 kB)\n",
      "Downloading orjson-3.11.2-cp313-cp313-win_amd64.whl (119 kB)\n",
      "Downloading ormsgpack-1.10.0-cp313-cp313-win_amd64.whl (121 kB)\n",
      "Using cached requests_toolbelt-1.0.0-py2.py3-none-any.whl (54 kB)\n",
      "Downloading sqlite_vec-0.1.6-py3-none-win_amd64.whl (281 kB)\n",
      "Downloading xxhash-3.5.0-cp313-cp313-win_amd64.whl (30 kB)\n",
      "Downloading zstandard-0.24.0-cp313-cp313-win_amd64.whl (505 kB)\n",
      "Installing collected packages: sqlite-vec, zstandard, xxhash, tenacity, ormsgpack, orjson, jsonpatch, greenlet, aiosqlite, SQLAlchemy, requests-toolbelt, langsmith, langgraph-sdk, langchain-core, langgraph-checkpoint, langchain-text-splitters, langgraph-prebuilt, langgraph-checkpoint-sqlite, langchain, langgraph, langchain-tavily\n",
      "\n",
      "   ----- ----------------------------------  3/21 [tenacity]\n",
      "   ------------- --------------------------  7/21 [greenlet]\n",
      "   ------------- --------------------------  7/21 [greenlet]\n",
      "   ----------------- ----------------------  9/21 [SQLAlchemy]\n",
      "   ----------------- ----------------------  9/21 [SQLAlchemy]\n",
      "   ----------------- ----------------------  9/21 [SQLAlchemy]\n",
      "   ----------------- ----------------------  9/21 [SQLAlchemy]\n",
      "   ----------------- ----------------------  9/21 [SQLAlchemy]\n",
      "   ----------------- ----------------------  9/21 [SQLAlchemy]\n",
      "   ----------------- ----------------------  9/21 [SQLAlchemy]\n",
      "   ----------------- ----------------------  9/21 [SQLAlchemy]\n",
      "   ----------------- ----------------------  9/21 [SQLAlchemy]\n",
      "   ----------------- ----------------------  9/21 [SQLAlchemy]\n",
      "   ----------------- ----------------------  9/21 [SQLAlchemy]\n",
      "   ----------------- ----------------------  9/21 [SQLAlchemy]\n",
      "   ----------------- ----------------------  9/21 [SQLAlchemy]\n",
      "   ----------------- ----------------------  9/21 [SQLAlchemy]\n",
      "   ----------------- ----------------------  9/21 [SQLAlchemy]\n",
      "   ----------------- ----------------------  9/21 [SQLAlchemy]\n",
      "   ----------------- ----------------------  9/21 [SQLAlchemy]\n",
      "   ------------------- -------------------- 10/21 [requests-toolbelt]\n",
      "   ------------------- -------------------- 10/21 [requests-toolbelt]\n",
      "   -------------------- ------------------- 11/21 [langsmith]\n",
      "   -------------------- ------------------- 11/21 [langsmith]\n",
      "   -------------------- ------------------- 11/21 [langsmith]\n",
      "   ---------------------- ----------------- 12/21 [langgraph-sdk]\n",
      "   ------------------------ --------------- 13/21 [langchain-core]\n",
      "   ------------------------ --------------- 13/21 [langchain-core]\n",
      "   ------------------------ --------------- 13/21 [langchain-core]\n",
      "   ------------------------ --------------- 13/21 [langchain-core]\n",
      "   ------------------------ --------------- 13/21 [langchain-core]\n",
      "   ------------------------ --------------- 13/21 [langchain-core]\n",
      "   ------------------------ --------------- 13/21 [langchain-core]\n",
      "   -------------------------- ------------- 14/21 [langgraph-checkpoint]\n",
      "   ---------------------------- ----------- 15/21 [langchain-text-splitters]\n",
      "   ---------------------------------- ----- 18/21 [langchain]\n",
      "   ---------------------------------- ----- 18/21 [langchain]\n",
      "   ---------------------------------- ----- 18/21 [langchain]\n",
      "   ---------------------------------- ----- 18/21 [langchain]\n",
      "   ---------------------------------- ----- 18/21 [langchain]\n",
      "   ---------------------------------- ----- 18/21 [langchain]\n",
      "   ---------------------------------- ----- 18/21 [langchain]\n",
      "   ---------------------------------- ----- 18/21 [langchain]\n",
      "   ---------------------------------- ----- 18/21 [langchain]\n",
      "   ---------------------------------- ----- 18/21 [langchain]\n",
      "   ---------------------------------- ----- 18/21 [langchain]\n",
      "   ---------------------------------- ----- 18/21 [langchain]\n",
      "   ---------------------------------- ----- 18/21 [langchain]\n",
      "   ---------------------------------- ----- 18/21 [langchain]\n",
      "   ---------------------------------- ----- 18/21 [langchain]\n",
      "   ---------------------------------- ----- 18/21 [langchain]\n",
      "   ---------------------------------- ----- 18/21 [langchain]\n",
      "   ---------------------------------- ----- 18/21 [langchain]\n",
      "   ---------------------------------- ----- 18/21 [langchain]\n",
      "   ---------------------------------- ----- 18/21 [langchain]\n",
      "   ---------------------------------- ----- 18/21 [langchain]\n",
      "   ---------------------------------- ----- 18/21 [langchain]\n",
      "   ---------------------------------- ----- 18/21 [langchain]\n",
      "   ---------------------------------- ----- 18/21 [langchain]\n",
      "   ---------------------------------- ----- 18/21 [langchain]\n",
      "   ---------------------------------- ----- 18/21 [langchain]\n",
      "   ---------------------------------- ----- 18/21 [langchain]\n",
      "   ---------------------------------- ----- 18/21 [langchain]\n",
      "   ---------------------------------- ----- 18/21 [langchain]\n",
      "   ---------------------------------- ----- 18/21 [langchain]\n",
      "   ---------------------------------- ----- 18/21 [langchain]\n",
      "   ---------------------------------- ----- 18/21 [langchain]\n",
      "   ---------------------------------- ----- 18/21 [langchain]\n",
      "   ---------------------------------- ----- 18/21 [langchain]\n",
      "   ---------------------------------- ----- 18/21 [langchain]\n",
      "   ---------------------------------- ----- 18/21 [langchain]\n",
      "   ---------------------------------- ----- 18/21 [langchain]\n",
      "   ---------------------------------- ----- 18/21 [langchain]\n",
      "   ---------------------------------- ----- 18/21 [langchain]\n",
      "   ---------------------------------- ----- 18/21 [langchain]\n",
      "   ---------------------------------- ----- 18/21 [langchain]\n",
      "   ---------------------------------- ----- 18/21 [langchain]\n",
      "   ---------------------------------- ----- 18/21 [langchain]\n",
      "   ------------------------------------ --- 19/21 [langgraph]\n",
      "   ------------------------------------ --- 19/21 [langgraph]\n",
      "   ------------------------------------ --- 19/21 [langgraph]\n",
      "   -------------------------------------- - 20/21 [langchain-tavily]\n",
      "   ---------------------------------------- 21/21 [langchain-tavily]\n",
      "\n",
      "Successfully installed SQLAlchemy-2.0.43 aiosqlite-0.21.0 greenlet-3.2.4 jsonpatch-1.33 langchain-0.3.27 langchain-core-0.3.74 langchain-tavily-0.2.11 langchain-text-splitters-0.3.9 langgraph-0.6.6 langgraph-checkpoint-2.1.1 langgraph-checkpoint-sqlite-2.0.11 langgraph-prebuilt-0.6.4 langgraph-sdk-0.2.2 langsmith-0.4.14 orjson-3.11.2 ormsgpack-1.10.0 requests-toolbelt-1.0.0 sqlite-vec-0.1.6 tenacity-9.1.2 xxhash-3.5.0 zstandard-0.24.0\n",
      "Note: you may need to restart the kernel to use updated packages.\n"
     ]
    },
    {
     "name": "stderr",
     "output_type": "stream",
     "text": [
      "WARNING: Ignoring invalid distribution ~upyterlab (C:\\Users\\Admin\\AppData\\Local\\Programs\\Python\\Python313\\Lib\\site-packages)\n",
      "WARNING: Ignoring invalid distribution ~upyterlab (C:\\Users\\Admin\\AppData\\Local\\Programs\\Python\\Python313\\Lib\\site-packages)\n",
      "WARNING: Ignoring invalid distribution ~upyterlab (C:\\Users\\Admin\\AppData\\Local\\Programs\\Python\\Python313\\Lib\\site-packages)\n"
     ]
    }
   ],
   "source": [
    "%pip install -U langgraph langchain-tavily langgraph-checkpoint-sqlite"
   ]
  },
  {
   "cell_type": "code",
   "execution_count": 4,
   "id": "08da55f5-510b-4b82-8390-e274395bfdb7",
   "metadata": {},
   "outputs": [
    {
     "name": "stdin",
     "output_type": "stream",
     "text": [
      " ········\n"
     ]
    }
   ],
   "source": [
    "import getpass\n",
    "import os\n",
    "\n",
    "os.environ[\"LANGSMITH_TRACING\"] = \"true\"\n",
    "os.environ[\"LANGSMITH_API_KEY\"] = getpass.getpass()"
   ]
  },
  {
   "cell_type": "code",
   "execution_count": 5,
   "id": "0fab6a26-e8c7-48f3-a7c6-bb02240dba52",
   "metadata": {},
   "outputs": [
    {
     "name": "stdin",
     "output_type": "stream",
     "text": [
      " ········\n"
     ]
    }
   ],
   "source": [
    "import getpass\n",
    "import os\n",
    "\n",
    "os.environ[\"TAVILY_API_KEY\"] = getpass.getpass()"
   ]
  },
  {
   "cell_type": "code",
   "execution_count": 6,
   "id": "131e148e-3a5b-4b84-ac28-06beb4b1eae2",
   "metadata": {},
   "outputs": [
    {
     "name": "stdout",
     "output_type": "stream",
     "text": [
      "{'query': 'What is the weather in SF', 'follow_up_questions': None, 'answer': None, 'images': [], 'results': [{'title': 'Weather in San Francisco', 'url': 'https://www.weatherapi.com/', 'content': \"{'location': {'name': 'San Francisco', 'region': 'California', 'country': 'United States of America', 'lat': 37.775, 'lon': -122.4183, 'tz_id': 'America/Los_Angeles', 'localtime_epoch': 1755668385, 'localtime': '2025-08-19 22:39'}, 'current': {'last_updated_epoch': 1755667800, 'last_updated': '2025-08-19 22:30', 'temp_c': 16.7, 'temp_f': 62.1, 'is_day': 0, 'condition': {'text': 'Partly cloudy', 'icon': '//cdn.weatherapi.com/weather/64x64/night/116.png', 'code': 1003}, 'wind_mph': 7.6, 'wind_kph': 12.2, 'wind_degree': 250, 'wind_dir': 'WSW', 'pressure_mb': 1019.0, 'pressure_in': 30.09, 'precip_mm': 0.0, 'precip_in': 0.0, 'humidity': 84, 'cloud': 50, 'feelslike_c': 16.7, 'feelslike_f': 62.1, 'windchill_c': 13.0, 'windchill_f': 55.5, 'heatindex_c': 13.8, 'heatindex_f': 56.8, 'dewpoint_c': 13.2, 'dewpoint_f': 55.7, 'vis_km': 16.0, 'vis_miles': 9.0, 'uv': 0.0, 'gust_mph': 12.4, 'gust_kph': 19.9}}\", 'score': 0.9982399, 'raw_content': None}, {'url': 'https://world-weather.info/forecast/usa/san_francisco/august-2025/', 'title': 'Weather in San Francisco in August 2025', 'content': \"Weather in San Francisco in August 2025 (California) - Detailed Weather Forecast for a Month *   Weather in San Francisco Weather in San Francisco in August 2025 *   7 +66° +59° 10.1 mph S 30 inHg 89 %06:18 am 20:11 pm *   8 +73° +57° 6.3 mph S 29.8 inHg 88 %06:19 am 20:10 pm *   15 +70° +59° 6.5 mph S 29.8 inHg 85 %06:25 am 20:02 pm *   23 +68° +57° 6.3 mph S 29.8 inHg 85 %06:32 am 19:51 pm Weather in Washington, D.C.**+77°** Sacramento**+66°** Pleasanton**+63°** Redwood City**+64°** San Leandro**+63°** San Mateo**+63°** San Rafael**+63°** San Ramon**+61°** South San Francisco**+61°** Vallejo**+63°** Pacifica**+59°** Berkeley**+63°** Concord**+64°** Daly City**+59°** Neroly**+72°** world's temperature today Uyuni day+52°F night+19°F Al Majarr al Kabīr day+122°F night+84°F Temperature units\", 'score': 0.8732259, 'raw_content': None}], 'response_time': 1.36, 'request_id': '006737ac-2d68-4ada-97e2-f7a2e64c49f7'}\n"
     ]
    }
   ],
   "source": [
    "from langchain_tavily import TavilySearch\n",
    "\n",
    "search = TavilySearch(max_results=2)\n",
    "search_results = search.invoke(\"What is the weather in SF\")\n",
    "print(search_results)\n",
    "# If we want, we can create other tools.\n",
    "# Once we have all the tools we want, we can put them in a list that we will reference later.\n",
    "tools = [search]"
   ]
  },
  {
   "cell_type": "code",
   "execution_count": 7,
   "id": "329e8afb-0ef3-48f4-be00-08070268e03c",
   "metadata": {},
   "outputs": [
    {
     "name": "stdout",
     "output_type": "stream",
     "text": [
      "Note: you may need to restart the kernel to use updated packages.\n"
     ]
    },
    {
     "name": "stderr",
     "output_type": "stream",
     "text": [
      "WARNING: Ignoring invalid distribution ~upyterlab (C:\\Users\\Admin\\AppData\\Local\\Programs\\Python\\Python313\\Lib\\site-packages)\n",
      "WARNING: Ignoring invalid distribution ~upyterlab (C:\\Users\\Admin\\AppData\\Local\\Programs\\Python\\Python313\\Lib\\site-packages)\n",
      "WARNING: Ignoring invalid distribution ~upyterlab (C:\\Users\\Admin\\AppData\\Local\\Programs\\Python\\Python313\\Lib\\site-packages)\n"
     ]
    }
   ],
   "source": [
    "pip install -qU \"langchain[google-genai]\""
   ]
  },
  {
   "cell_type": "code",
   "execution_count": 8,
   "id": "acf807ae-1616-4e5c-bfed-0d3caf62fc1d",
   "metadata": {},
   "outputs": [
    {
     "name": "stdin",
     "output_type": "stream",
     "text": [
      "Enter API key for Google Gemini:  ········\n"
     ]
    }
   ],
   "source": [
    "import getpass\n",
    "import os\n",
    "\n",
    "if not os.environ.get(\"GOOGLE_API_KEY\"):\n",
    "  os.environ[\"GOOGLE_API_KEY\"] = getpass.getpass(\"Enter API key for Google Gemini: \")\n",
    "\n",
    "from langchain.chat_models import init_chat_model\n",
    "\n",
    "model = init_chat_model(\"gemini-2.5-flash\", model_provider=\"google_genai\")"
   ]
  },
  {
   "cell_type": "code",
   "execution_count": 9,
   "id": "edfbe765-2ed5-4898-8d3e-2225714cb575",
   "metadata": {},
   "outputs": [
    {
     "data": {
      "text/plain": [
       "'Hi there! How can I help you today?'"
      ]
     },
     "execution_count": 9,
     "metadata": {},
     "output_type": "execute_result"
    }
   ],
   "source": [
    "query = \"Hi!\"\n",
    "response = model.invoke([{\"role\": \"user\", \"content\": query}])\n",
    "response.text()"
   ]
  },
  {
   "cell_type": "code",
   "execution_count": 10,
   "id": "f10ce656-7a5a-45fd-916a-7058ab475913",
   "metadata": {},
   "outputs": [],
   "source": [
    "model_with_tools = model.bind_tools(tools)"
   ]
  },
  {
   "cell_type": "code",
   "execution_count": 11,
   "id": "c01af43b-c1a6-4cb7-8006-164370d6e5fd",
   "metadata": {},
   "outputs": [
    {
     "name": "stdout",
     "output_type": "stream",
     "text": [
      "Message content: Hello! How can I help you today?\n",
      "\n",
      "Tool calls: []\n"
     ]
    }
   ],
   "source": [
    "query = \"Hi!\"\n",
    "response = model_with_tools.invoke([{\"role\": \"user\", \"content\": query}])\n",
    "\n",
    "print(f\"Message content: {response.text()}\\n\")\n",
    "print(f\"Tool calls: {response.tool_calls}\")"
   ]
  },
  {
   "cell_type": "code",
   "execution_count": 12,
   "id": "0c503806-9dac-4862-affa-bb262a399c14",
   "metadata": {},
   "outputs": [
    {
     "name": "stdout",
     "output_type": "stream",
     "text": [
      "Message content: \n",
      "\n",
      "Tool calls: [{'name': 'tavily_search', 'args': {'query': 'weather in SF'}, 'id': 'ffff72c6-ab5e-4b7d-a466-a848492638ea', 'type': 'tool_call'}]\n"
     ]
    }
   ],
   "source": [
    "query = \"Search for the weather in SF\"\n",
    "response = model_with_tools.invoke([{\"role\": \"user\", \"content\": query}])\n",
    "\n",
    "print(f\"Message content: {response.text()}\\n\")\n",
    "print(f\"Tool calls: {response.tool_calls}\")"
   ]
  },
  {
   "cell_type": "code",
   "execution_count": 13,
   "id": "c26e1197-24d5-456b-8e07-c98b7e0fa6b8",
   "metadata": {},
   "outputs": [],
   "source": [
    "from langgraph.prebuilt import create_react_agent\n",
    "\n",
    "agent_executor = create_react_agent(model, tools)"
   ]
  },
  {
   "cell_type": "code",
   "execution_count": 14,
   "id": "f8143469-a11a-4ac2-a0c1-35e0f98e7eaa",
   "metadata": {},
   "outputs": [
    {
     "name": "stdout",
     "output_type": "stream",
     "text": [
      "================================\u001b[1m Human Message \u001b[0m=================================\n",
      "\n",
      "Hi!\n",
      "==================================\u001b[1m Ai Message \u001b[0m==================================\n",
      "\n",
      "Hello! How can I help you today?\n"
     ]
    }
   ],
   "source": [
    "input_message = {\"role\": \"user\", \"content\": \"Hi!\"}\n",
    "response = agent_executor.invoke({\"messages\": [input_message]})\n",
    "\n",
    "for message in response[\"messages\"]:\n",
    "    message.pretty_print()"
   ]
  },
  {
   "cell_type": "code",
   "execution_count": 15,
   "id": "fdd70bcf-8531-43e9-9c90-0e18973b92e1",
   "metadata": {},
   "outputs": [
    {
     "name": "stdout",
     "output_type": "stream",
     "text": [
      "================================\u001b[1m Human Message \u001b[0m=================================\n",
      "\n",
      "Search for the weather in Chennai\n",
      "==================================\u001b[1m Ai Message \u001b[0m==================================\n",
      "Tool Calls:\n",
      "  tavily_search (5b62eaee-35f4-44a6-95ef-82d0dd57a140)\n",
      " Call ID: 5b62eaee-35f4-44a6-95ef-82d0dd57a140\n",
      "  Args:\n",
      "    query: weather in Chennai\n",
      "=================================\u001b[1m Tool Message \u001b[0m=================================\n",
      "Name: tavily_search\n",
      "\n",
      "{\"query\": \"weather in Chennai\", \"follow_up_questions\": null, \"answer\": null, \"images\": [], \"results\": [{\"title\": \"Weather in Chennai\", \"url\": \"https://www.weatherapi.com/\", \"content\": \"{'location': {'name': 'Chennai', 'region': 'Tamil Nadu', 'country': 'India', 'lat': 13.0833, 'lon': 80.2833, 'tz_id': 'Asia/Kolkata', 'localtime_epoch': 1755668592, 'localtime': '2025-08-20 11:13'}, 'current': {'last_updated_epoch': 1755667800, 'last_updated': '2025-08-20 11:00', 'temp_c': 34.2, 'temp_f': 93.6, 'is_day': 1, 'condition': {'text': 'Partly cloudy', 'icon': '//cdn.weatherapi.com/weather/64x64/day/116.png', 'code': 1003}, 'wind_mph': 16.3, 'wind_kph': 26.3, 'wind_degree': 271, 'wind_dir': 'W', 'pressure_mb': 1008.0, 'pressure_in': 29.77, 'precip_mm': 0.0, 'precip_in': 0.0, 'humidity': 53, 'cloud': 50, 'feelslike_c': 39.2, 'feelslike_f': 102.6, 'windchill_c': 32.2, 'windchill_f': 89.9, 'heatindex_c': 35.0, 'heatindex_f': 95.1, 'dewpoint_c': 20.2, 'dewpoint_f': 68.4, 'vis_km': 6.0, 'vis_miles': 3.0, 'uv': 11.7, 'gust_mph': 19.3, 'gust_kph': 31.1}}\", \"score\": 0.9870759, \"raw_content\": null}, {\"url\": \"https://timesofindia.indiatimes.com/weather/chennai-weather-forecast-today/600017\", \"title\": \"Chennai Weather Forecast 20 Aug 2025 - Times of India\", \"content\": \"Today's Weather in Chennai: In Chennai today, the weather is expected to be Partly Cloudy with a maximum temperature of 34°C and a minimum of 27°C. Sunrise\", \"score\": 0.98569, \"raw_content\": null}], \"response_time\": 1.34, \"request_id\": \"c4786b0c-7b6a-4270-8b19-6d675384ec01\"}\n",
      "==================================\u001b[1m Ai Message \u001b[0m==================================\n",
      "\n",
      "The weather in Chennai is partly cloudy with a temperature of 34.2°C (93.6°F). The wind is blowing from the West at 26.3 km/h (16.3 mph). Humidity is at 53%. The maximum temperature for today is expected to be 34°C and the minimum 27°C.\n"
     ]
    }
   ],
   "source": [
    "input_message = {\"role\": \"user\", \"content\": \"Search for the weather in Chennai\"}\n",
    "response = agent_executor.invoke({\"messages\": [input_message]})\n",
    "\n",
    "for message in response[\"messages\"]:\n",
    "    message.pretty_print()"
   ]
  },
  {
   "cell_type": "code",
   "execution_count": 16,
   "id": "49cecf85-9e5e-48e1-83e9-44bd86d2faa9",
   "metadata": {},
   "outputs": [
    {
     "name": "stdout",
     "output_type": "stream",
     "text": [
      "================================\u001b[1m Human Message \u001b[0m=================================\n",
      "\n",
      "Search for the weather in Chennai\n",
      "==================================\u001b[1m Ai Message \u001b[0m==================================\n",
      "Tool Calls:\n",
      "  tavily_search (9838a1d9-33f3-41f9-8e1d-a870c747939e)\n",
      " Call ID: 9838a1d9-33f3-41f9-8e1d-a870c747939e\n",
      "  Args:\n",
      "    query: weather in Chennai\n",
      "=================================\u001b[1m Tool Message \u001b[0m=================================\n",
      "Name: tavily_search\n",
      "\n",
      "{\"query\": \"weather in Chennai\", \"follow_up_questions\": null, \"answer\": null, \"images\": [], \"results\": [{\"title\": \"Weather in Chennai\", \"url\": \"https://www.weatherapi.com/\", \"content\": \"{'location': {'name': 'Chennai', 'region': 'Tamil Nadu', 'country': 'India', 'lat': 13.0833, 'lon': 80.2833, 'tz_id': 'Asia/Kolkata', 'localtime_epoch': 1755668592, 'localtime': '2025-08-20 11:13'}, 'current': {'last_updated_epoch': 1755667800, 'last_updated': '2025-08-20 11:00', 'temp_c': 34.2, 'temp_f': 93.6, 'is_day': 1, 'condition': {'text': 'Partly cloudy', 'icon': '//cdn.weatherapi.com/weather/64x64/day/116.png', 'code': 1003}, 'wind_mph': 16.3, 'wind_kph': 26.3, 'wind_degree': 271, 'wind_dir': 'W', 'pressure_mb': 1008.0, 'pressure_in': 29.77, 'precip_mm': 0.0, 'precip_in': 0.0, 'humidity': 53, 'cloud': 50, 'feelslike_c': 39.2, 'feelslike_f': 102.6, 'windchill_c': 32.2, 'windchill_f': 89.9, 'heatindex_c': 35.0, 'heatindex_f': 95.1, 'dewpoint_c': 20.2, 'dewpoint_f': 68.4, 'vis_km': 6.0, 'vis_miles': 3.0, 'uv': 11.7, 'gust_mph': 19.3, 'gust_kph': 31.1}}\", \"score\": 0.9870759, \"raw_content\": null}, {\"url\": \"https://timesofindia.indiatimes.com/weather/chennai-weather-forecast-today/600017\", \"title\": \"Chennai Weather Forecast 20 Aug 2025 - Times of India\", \"content\": \"Today's Weather in Chennai: In Chennai today, the weather is expected to be Partly Cloudy with a maximum temperature of 34°C and a minimum of 27°C. Sunrise\", \"score\": 0.98569, \"raw_content\": null}], \"response_time\": 0.86, \"request_id\": \"2079a7e0-4e4a-4409-b99a-6669a15dca96\"}\n",
      "==================================\u001b[1m Ai Message \u001b[0m==================================\n",
      "\n",
      "The weather in Chennai is partly cloudy with a temperature of 34.2°C, feeling like 39.2°C. The wind is 26.3 kph from the West. Humidity is 53%.\n"
     ]
    }
   ],
   "source": [
    "for step in agent_executor.stream({\"messages\": [input_message]}, stream_mode=\"values\"):\n",
    "    step[\"messages\"][-1].pretty_print()"
   ]
  },
  {
   "cell_type": "code",
   "execution_count": 17,
   "id": "b0243fde-ada9-45f0-a080-e88c2acb910b",
   "metadata": {},
   "outputs": [
    {
     "name": "stdout",
     "output_type": "stream",
     "text": [
      "The weather in Chennai is partly cloudy with a temperature of 34.2°C (93.6°F). The wind is blowing from the West at 26.3 km/h (16.3 mph).| The humidity is 53%, and it feels like 39.2°C (102.6°F). The UV index is 11.7. The maximum temperature expected today is 34°C and the| minimum is 27°C.|"
     ]
    }
   ],
   "source": [
    "for step, metadata in agent_executor.stream(\n",
    "    {\"messages\": [input_message]}, stream_mode=\"messages\"\n",
    "):\n",
    "    if metadata[\"langgraph_node\"] == \"agent\" and (text := step.text()):\n",
    "        print(text, end=\"|\")"
   ]
  },
  {
   "cell_type": "code",
   "execution_count": 22,
   "id": "9226c1cc-ad3e-4cc7-bda2-d933a1e205df",
   "metadata": {},
   "outputs": [],
   "source": [
    "from langgraph.checkpoint.memory import MemorySaver\n",
    "\n",
    "memory = MemorySaver()"
   ]
  },
  {
   "cell_type": "code",
   "execution_count": 23,
   "id": "1970c92a-dc95-4271-9cf5-18185965baa5",
   "metadata": {},
   "outputs": [],
   "source": [
    "agent_executor = create_react_agent(model, tools, checkpointer=memory)\n",
    "\n",
    "config = {\"configurable\": {\"thread_id\": \"abc123\"}}"
   ]
  },
  {
   "cell_type": "code",
   "execution_count": 24,
   "id": "d6cc1842-bbff-4f76-80df-8a1451ac4327",
   "metadata": {},
   "outputs": [
    {
     "name": "stdout",
     "output_type": "stream",
     "text": [
      "================================\u001b[1m Human Message \u001b[0m=================================\n",
      "\n",
      "Hi, I'm Shravan!\n",
      "==================================\u001b[1m Ai Message \u001b[0m==================================\n",
      "\n",
      "Hi Shravan! How can I help you today?\n"
     ]
    }
   ],
   "source": [
    "input_message = {\"role\": \"user\", \"content\": \"Hi, I'm Shravan!\"}\n",
    "for step in agent_executor.stream(\n",
    "    {\"messages\": [input_message]}, config, stream_mode=\"values\"\n",
    "):\n",
    "    step[\"messages\"][-1].pretty_print()"
   ]
  },
  {
   "cell_type": "code",
   "execution_count": 26,
   "id": "d875e05b-8a16-4272-96d4-446981f30c27",
   "metadata": {},
   "outputs": [
    {
     "name": "stdout",
     "output_type": "stream",
     "text": [
      "================================\u001b[1m Human Message \u001b[0m=================================\n",
      "\n",
      "What's my name?\n",
      "==================================\u001b[1m Ai Message \u001b[0m==================================\n",
      "\n",
      "As I mentioned, I don't have memory of past conversations. You just told me your name is Shravan.\n"
     ]
    }
   ],
   "source": [
    "input_message = {\"role\": \"user\", \"content\": \"What's my name?\"}\n",
    "for step in agent_executor.stream(\n",
    "    {\"messages\": [input_message]}, config, stream_mode=\"values\"\n",
    "):\n",
    "    step[\"messages\"][-1].pretty_print()"
   ]
  },
  {
   "cell_type": "code",
   "execution_count": null,
   "id": "912848d0-28a3-4a76-93b8-367374e52a7a",
   "metadata": {},
   "outputs": [],
   "source": []
  }
 ],
 "metadata": {
  "kernelspec": {
   "display_name": "Python 3 (ipykernel)",
   "language": "python",
   "name": "python3"
  },
  "language_info": {
   "codemirror_mode": {
    "name": "ipython",
    "version": 3
   },
   "file_extension": ".py",
   "mimetype": "text/x-python",
   "name": "python",
   "nbconvert_exporter": "python",
   "pygments_lexer": "ipython3",
   "version": "3.13.3"
  }
 },
 "nbformat": 4,
 "nbformat_minor": 5
}
